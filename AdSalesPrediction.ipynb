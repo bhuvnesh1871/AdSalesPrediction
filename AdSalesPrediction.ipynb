{
 "cells": [
  {
   "attachments": {},
   "cell_type": "markdown",
   "metadata": {},
   "source": [
    "### TOPIC: \"Advertising Sales Prediction based on different advertising channels.\" \n",
    "\n",
    "### FIELD: \"Linear Regression”.\n",
    "\n",
    "#### Dataset: [https://www.kaggle.com/datasets/harrimansaragih/dummy-advertising-and-sales-data]\n"
   ]
  },
  {
   "cell_type": "code",
   "execution_count": 1,
   "metadata": {},
   "outputs": [],
   "source": [
    "import numpy as np\n",
    "import pandas as pd\n",
    "import matplotlib.pyplot as plt\n",
    "\n",
    "data= pd.read_csv('./Data.csv')"
   ]
  },
  {
   "attachments": {},
   "cell_type": "markdown",
   "metadata": {},
   "source": [
    "1. This code is a Python script that imports the NumPy, Pandas and Matplotlib libraries. \n",
    "\n",
    "2. The NumPy library is used for numerical operations on arrays and matrices. \n",
    "\n",
    "3. The Pandas library is used for data manipulation and analysis. \n",
    "\n",
    "4. The Matplotlib library is used for data visualization. \n",
    "\n",
    "5. The pd.read_csv() function from Pandas library is used to read a CSV file into a DataFrame object. \n",
    "\n"
   ]
  },
  {
   "cell_type": "code",
   "execution_count": 2,
   "metadata": {},
   "outputs": [],
   "source": [
    "import warnings\n",
    "warnings.filterwarnings('ignore')"
   ]
  },
  {
   "attachments": {},
   "cell_type": "markdown",
   "metadata": {},
   "source": [
    "Data Extraction:\n",
    "1. Removing unrequired columns.\n",
    "2. Dropping NaN(Null) rows."
   ]
  },
  {
   "cell_type": "code",
   "execution_count": 3,
   "metadata": {},
   "outputs": [],
   "source": [
    "#Replace the space in column names with an underscore\n",
    "data.columns = [c.replace(' ', '_') for c in data.columns]"
   ]
  },
  {
   "cell_type": "code",
   "execution_count": 4,
   "metadata": {},
   "outputs": [],
   "source": [
    "data.drop('Influencer',axis='columns', inplace=True)"
   ]
  },
  {
   "cell_type": "code",
   "execution_count": 5,
   "metadata": {},
   "outputs": [
    {
     "data": {
      "text/plain": [
       "True"
      ]
     },
     "execution_count": 5,
     "metadata": {},
     "output_type": "execute_result"
    }
   ],
   "source": [
    "#check if there is a null value in our dataset\n",
    "data.isnull().values.any()\n"
   ]
  },
  {
   "cell_type": "code",
   "execution_count": 6,
   "metadata": {},
   "outputs": [
    {
     "data": {
      "text/plain": [
       "TV              10\n",
       "Radio            4\n",
       "Social_Media     6\n",
       "Sales            6\n",
       "dtype: int64"
      ]
     },
     "execution_count": 6,
     "metadata": {},
     "output_type": "execute_result"
    }
   ],
   "source": [
    "#display the number of null values and its corresponding columns\n",
    "data.isnull().sum()"
   ]
  },
  {
   "cell_type": "code",
   "execution_count": 7,
   "metadata": {},
   "outputs": [],
   "source": [
    "#Clean the data by deleting rows with null values, since their number\n",
    "#is small compared to the total number of rows in the dataset, \n",
    "#so deleting them will not have a significant effect.\n",
    "\n",
    "data.dropna(subset = ['TV'], inplace=True)\n",
    "data.dropna(subset = ['Radio'], inplace=True)\n",
    "data.dropna(subset = ['Social_Media'], inplace=True)\n",
    "data.dropna(subset = ['Sales'], inplace=True)"
   ]
  },
  {
   "cell_type": "code",
   "execution_count": 8,
   "metadata": {},
   "outputs": [
    {
     "name": "stdout",
     "output_type": "stream",
     "text": [
      "<class 'pandas.core.frame.DataFrame'>\n",
      "Index: 4546 entries, 0 to 4571\n",
      "Data columns (total 4 columns):\n",
      " #   Column        Non-Null Count  Dtype  \n",
      "---  ------        --------------  -----  \n",
      " 0   TV            4546 non-null   float64\n",
      " 1   Radio         4546 non-null   float64\n",
      " 2   Social_Media  4546 non-null   float64\n",
      " 3   Sales         4546 non-null   float64\n",
      "dtypes: float64(4)\n",
      "memory usage: 177.6 KB\n"
     ]
    }
   ],
   "source": [
    "data.info()"
   ]
  },
  {
   "cell_type": "code",
   "execution_count": 9,
   "metadata": {},
   "outputs": [
    {
     "data": {
      "text/html": [
       "<div>\n",
       "<style scoped>\n",
       "    .dataframe tbody tr th:only-of-type {\n",
       "        vertical-align: middle;\n",
       "    }\n",
       "\n",
       "    .dataframe tbody tr th {\n",
       "        vertical-align: top;\n",
       "    }\n",
       "\n",
       "    .dataframe thead th {\n",
       "        text-align: right;\n",
       "    }\n",
       "</style>\n",
       "<table border=\"1\" class=\"dataframe\">\n",
       "  <thead>\n",
       "    <tr style=\"text-align: right;\">\n",
       "      <th></th>\n",
       "      <th>TV</th>\n",
       "      <th>Radio</th>\n",
       "      <th>Social_Media</th>\n",
       "      <th>Sales</th>\n",
       "    </tr>\n",
       "  </thead>\n",
       "  <tbody>\n",
       "    <tr>\n",
       "      <th>0</th>\n",
       "      <td>16.0</td>\n",
       "      <td>6.566231</td>\n",
       "      <td>2.907983</td>\n",
       "      <td>54.732757</td>\n",
       "    </tr>\n",
       "    <tr>\n",
       "      <th>1</th>\n",
       "      <td>13.0</td>\n",
       "      <td>9.237765</td>\n",
       "      <td>2.409567</td>\n",
       "      <td>46.677897</td>\n",
       "    </tr>\n",
       "    <tr>\n",
       "      <th>2</th>\n",
       "      <td>41.0</td>\n",
       "      <td>15.886446</td>\n",
       "      <td>2.913410</td>\n",
       "      <td>150.177829</td>\n",
       "    </tr>\n",
       "    <tr>\n",
       "      <th>3</th>\n",
       "      <td>83.0</td>\n",
       "      <td>30.020028</td>\n",
       "      <td>6.922304</td>\n",
       "      <td>298.246340</td>\n",
       "    </tr>\n",
       "    <tr>\n",
       "      <th>4</th>\n",
       "      <td>15.0</td>\n",
       "      <td>8.437408</td>\n",
       "      <td>1.405998</td>\n",
       "      <td>56.594181</td>\n",
       "    </tr>\n",
       "    <tr>\n",
       "      <th>...</th>\n",
       "      <td>...</td>\n",
       "      <td>...</td>\n",
       "      <td>...</td>\n",
       "      <td>...</td>\n",
       "    </tr>\n",
       "    <tr>\n",
       "      <th>4567</th>\n",
       "      <td>26.0</td>\n",
       "      <td>4.472360</td>\n",
       "      <td>0.717090</td>\n",
       "      <td>94.685866</td>\n",
       "    </tr>\n",
       "    <tr>\n",
       "      <th>4568</th>\n",
       "      <td>71.0</td>\n",
       "      <td>20.610685</td>\n",
       "      <td>6.545573</td>\n",
       "      <td>249.101915</td>\n",
       "    </tr>\n",
       "    <tr>\n",
       "      <th>4569</th>\n",
       "      <td>44.0</td>\n",
       "      <td>19.800072</td>\n",
       "      <td>5.096192</td>\n",
       "      <td>163.631457</td>\n",
       "    </tr>\n",
       "    <tr>\n",
       "      <th>4570</th>\n",
       "      <td>71.0</td>\n",
       "      <td>17.534640</td>\n",
       "      <td>1.940873</td>\n",
       "      <td>253.610411</td>\n",
       "    </tr>\n",
       "    <tr>\n",
       "      <th>4571</th>\n",
       "      <td>42.0</td>\n",
       "      <td>15.966688</td>\n",
       "      <td>5.046548</td>\n",
       "      <td>148.202414</td>\n",
       "    </tr>\n",
       "  </tbody>\n",
       "</table>\n",
       "<p>4546 rows × 4 columns</p>\n",
       "</div>"
      ],
      "text/plain": [
       "        TV      Radio  Social_Media       Sales\n",
       "0     16.0   6.566231      2.907983   54.732757\n",
       "1     13.0   9.237765      2.409567   46.677897\n",
       "2     41.0  15.886446      2.913410  150.177829\n",
       "3     83.0  30.020028      6.922304  298.246340\n",
       "4     15.0   8.437408      1.405998   56.594181\n",
       "...    ...        ...           ...         ...\n",
       "4567  26.0   4.472360      0.717090   94.685866\n",
       "4568  71.0  20.610685      6.545573  249.101915\n",
       "4569  44.0  19.800072      5.096192  163.631457\n",
       "4570  71.0  17.534640      1.940873  253.610411\n",
       "4571  42.0  15.966688      5.046548  148.202414\n",
       "\n",
       "[4546 rows x 4 columns]"
      ]
     },
     "execution_count": 9,
     "metadata": {},
     "output_type": "execute_result"
    }
   ],
   "source": [
    "data"
   ]
  },
  {
   "attachments": {},
   "cell_type": "markdown",
   "metadata": {},
   "source": [
    "1. The scatter plot shows the relationship between the total amount spent on advertising (TV, Radio and Social Media) and the sales. \n",
    "\n",
    "2. The x-axis represents the total amount spent on advertising while the y-axis represents the sales. \n",
    "\n",
    "3. The scatter plot shows that as the amount spent on advertising increases, so does the sales."
   ]
  },
  {
   "cell_type": "code",
   "execution_count": 10,
   "metadata": {},
   "outputs": [
    {
     "data": {
      "image/png": "[encoded data removed]",
      "text/plain": [
       "<Figure size 640x480 with 1 Axes>"
      ]
     },
     "metadata": {},
     "output_type": "display_data"
    }
   ],
   "source": [
    "plt.scatter(data[\"TV\"] + data[\"Radio\"] + data[\"Social_Media\"],data[\"Sales\"], color=\"lightblue\")\n",
    "plt.xlabel(\"Advertisement\")\n",
    "plt.ylabel(\"Sales\")\n",
    "plt.show()"
   ]
  },
  {
   "attachments": {},
   "cell_type": "markdown",
   "metadata": {},
   "source": [
    "- x: The input features (independent variables) of your dataset.\n",
    "- y: The target variable (dependent variable) of your dataset.\n",
    "- test_size: The proportion of the dataset to include in the test split. For example, if test_size=0.2, then 20% of the data will be used for testing and 80% for training.\n",
    "- random_state: The seed used by the random number generator. This ensures that the same random splits are generated each time you run the code"
   ]
  },
  {
   "cell_type": "code",
   "execution_count": 11,
   "metadata": {},
   "outputs": [],
   "source": [
    "from sklearn.model_selection import train_test_split\n",
    "\n",
    "#Create column \"Advertisement\" that combine the other three columns \n",
    "data['Advertisement'] = data[\"TV\"] + data[\"Radio\"] + data[\"Social_Media\"]\n",
    "\n",
    "#Save input as 2d array in variable x\n",
    "x = data[['Advertisement']]\n",
    "\n",
    "#Save output as 2d array in variable y \n",
    "y=data[['Sales']]\n",
    "\n",
    "#Split input and output to training and testing data\n",
    "x_train, x_test, y_train, y_test = train_test_split(x,y,test_size=0.2,random_state=42)"
   ]
  },
  {
   "cell_type": "code",
   "execution_count": 12,
   "metadata": {},
   "outputs": [
    {
     "name": "stdout",
     "output_type": "stream",
     "text": [
      "Advertisement: mean=75.544 stdv=36.122\n",
      "Sales: mean=192.413 stdv=93.010\n"
     ]
    }
   ],
   "source": [
    "# Convert the Series to a NumPy array and Print the mean and standard deviation\n",
    "#input x (Advertisement) and output y (Sales) columns\n",
    "print('Advertisement: mean=%.3f stdv=%.3f' % (np.mean(x.values), np.std(x.values)))\n",
    "print('Sales: mean=%.3f stdv=%.3f' % (np.mean(y.values), np.std(y.values)))"
   ]
  },
  {
   "attachments": {},
   "cell_type": "markdown",
   "metadata": {},
   "source": [
    "- Create a linear regression model using the scikit-learn library in Python. \n",
    "- The linear_model.LinearRegression() function is used to create the model. \n",
    "- The fit() function is used to fit the model to the training data. \n",
    "- The coef_ attribute of the model object contains the coefficients (slopes) of the linear regression line. \n",
    "- The intercept_ attribute contains the y-intercept of the line"
   ]
  },
  {
   "cell_type": "code",
   "execution_count": 13,
   "metadata": {},
   "outputs": [
    {
     "name": "stdout",
     "output_type": "stream",
     "text": [
      "coefficients:  [[2.5447444]]\n",
      "Intercept:  [-0.04017377]\n"
     ]
    }
   ],
   "source": [
    "from sklearn import linear_model\n",
    "\n",
    "#Create our first linear regression model\n",
    "model_1=linear_model.LinearRegression()#Select linear regression model\n",
    "model_1.fit(x_train,y_train)\n",
    "\n",
    "#The coefficients:\n",
    "print(\"coefficients: \", model_1.coef_)#Slope\n",
    "print(\"Intercept: \", model_1.intercept_)#Intercept"
   ]
  },
  {
   "attachments": {},
   "cell_type": "markdown",
   "metadata": {},
   "source": [
    "- x_train: The input features (independent variables) of your training dataset.\n",
    "- model_1.coef_: The slope (coefficient) of the linear regression model.\n",
    "- x_train*model_1.coef_+model_1.intercept_: The equation of the line (y = mx + b) where m is the slope and b is the y-intercept.\n",
    "- ‘-r’: The color and style of the line. ‘-r’ means a solid red line"
   ]
  },
  {
   "cell_type": "code",
   "execution_count": 14,
   "metadata": {},
   "outputs": [
    {
     "data": {
      "text/plain": [
       "Text(0, 0.5, 'Sales')"
      ]
     },
     "execution_count": 14,
     "metadata": {},
     "output_type": "execute_result"
    },
    {
     "data": {
      "image/png": "[encoded data removed]",
      "text/plain": [
       "<Figure size 640x480 with 1 Axes>"
      ]
     },
     "metadata": {},
     "output_type": "display_data"
    }
   ],
   "source": [
    "#Plotting the regression line:\n",
    "plt.scatter(data[\"Advertisement\"], data[\"Sales\"], color='lightblue')\n",
    "plt.plot(x_train, model_1.coef_*x_train+model_1.intercept_,'-r')\n",
    "plt.xlabel(\"Advertisement\")\n",
    "plt.ylabel(\"Sales\")\n"
   ]
  },
  {
   "attachments": {},
   "cell_type": "markdown",
   "metadata": {},
   "source": [
    "* Predict sales using a linear regression model. \n",
    "\n",
    "* The code you provided is reshaping an array using numpy’s reshape function1 which is used to give a new shape to an array without changing its data. The reshape function takes an array_like object and a new shape as arguments. The new shape should be compatible with the original shape. If an integer is passed as the new shape, then the result will be a 1-D array of that length. One shape dimension can be -1 which means that the value is inferred from the length of the array and remaining dimensions.\n",
    "\n",
    "* The code then uses the predict method of the linear regression model to predict sales. The predict method returns predicted values for the input samples."
   ]
  },
  {
   "cell_type": "code",
   "execution_count": 15,
   "metadata": {},
   "outputs": [],
   "source": [
    "myAd = np.array(70000000).reshape(1,-1)"
   ]
  },
  {
   "cell_type": "code",
   "execution_count": 16,
   "metadata": {},
   "outputs": [],
   "source": [
    "prediction = model_1.predict(myAd)"
   ]
  },
  {
   "cell_type": "code",
   "execution_count": 17,
   "metadata": {},
   "outputs": [
    {
     "name": "stdout",
     "output_type": "stream",
     "text": [
      "Estimated Sales is: 178.132108 million\n"
     ]
    }
   ],
   "source": [
    "estimatedSales = '{:.6f}'.format(prediction.item()/1000000)\n",
    "print(\"Estimated Sales is: {} million\".format(estimatedSales))"
   ]
  },
  {
   "cell_type": "code",
   "execution_count": 18,
   "metadata": {},
   "outputs": [],
   "source": [
    "y_pred = model_1.predict(x_test)"
   ]
  },
  {
   "attachments": {},
   "cell_type": "markdown",
   "metadata": {},
   "source": [
    "Calculating the evaluation metrics for the linear regression model. \n",
    "The evaluation metrics are used to assess the quality of predictions made by the model.\n",
    "\n",
    "The three evaluation metrics calculated are:\n",
    "\n",
    "> - Mean Absolute Error (MAE)\n",
    "> - Mean Squared Error (MSE)\n",
    "> - Root Mean Squared Error (RMSE)\n",
    "\n",
    "The MAE is the average of the absolute differences between predicted and actual values. The MSE is the average of the squared differences between predicted and actual values. The RMSE is the square root of the MSE."
   ]
  },
  {
   "cell_type": "code",
   "execution_count": 19,
   "metadata": {},
   "outputs": [
    {
     "name": "stdout",
     "output_type": "stream",
     "text": [
      "The mean absolute error is:  11.86999717820567\n",
      "The mean squared error is:  221.55012058562846\n",
      "The root mean squared error is:  14.884559804899453\n"
     ]
    }
   ],
   "source": [
    "from sklearn import metrics\n",
    "\n",
    "# Calculate the evaluation metrics \n",
    "\n",
    "#1- Mean Absolute Error (MAE)\n",
    "print('The mean absolute error is: ',metrics.mean_absolute_error(y_test, y_pred))\n",
    "\n",
    "#2- Mean Squared Error (MSE)\n",
    "print('The mean squared error is: ',metrics.mean_squared_error(y_test, y_pred))\n",
    "\n",
    "#3- Root Mean Squared Error (RMSE)\n",
    "print('The root mean squared error is: ',np.sqrt(metrics.mean_squared_error(y_test, y_pred)))"
   ]
  },
  {
   "cell_type": "code",
   "execution_count": 20,
   "metadata": {},
   "outputs": [
    {
     "name": "stdout",
     "output_type": "stream",
     "text": [
      "<class 'pandas.core.frame.DataFrame'>\n",
      "Index: 4546 entries, 0 to 4571\n",
      "Data columns (total 5 columns):\n",
      " #   Column         Non-Null Count  Dtype  \n",
      "---  ------         --------------  -----  \n",
      " 0   TV             4546 non-null   float64\n",
      " 1   Radio          4546 non-null   float64\n",
      " 2   Social_Media   4546 non-null   float64\n",
      " 3   Sales          4546 non-null   float64\n",
      " 4   Advertisement  4546 non-null   float64\n",
      "dtypes: float64(5)\n",
      "memory usage: 213.1 KB\n"
     ]
    }
   ],
   "source": [
    "data.info()"
   ]
  },
  {
   "cell_type": "code",
   "execution_count": 21,
   "metadata": {},
   "outputs": [
    {
     "data": {
      "text/plain": [
       "TV              245770.000000\n",
       "Radio            82544.145483\n",
       "Social_Media     15108.507602\n",
       "dtype: float64"
      ]
     },
     "execution_count": 21,
     "metadata": {},
     "output_type": "execute_result"
    }
   ],
   "source": [
    "#Sum budget of each channel\n",
    "type = data[[\"TV\", \"Radio\", \"Social_Media\"]]\n",
    "type.sum()"
   ]
  },
  {
   "attachments": {},
   "cell_type": "markdown",
   "metadata": {},
   "source": [
    "* plot a bar chart that shows the correlation between each channel and “Sales”. Here is what each argument in the plt.bar() function does:\n",
    "\n",
    "* x: The x coordinates of the bars.\n",
    "\n",
    "* y: The height of the bars.\n",
    "\n",
    "* plt.xticks(x, type): Set the x-tick labels with the channel names.\n",
    "\n",
    "* This will plot a bar chart that shows the correlation between each channel and “Sales”."
   ]
  },
  {
   "cell_type": "code",
   "execution_count": 22,
   "metadata": {},
   "outputs": [
    {
     "data": {
      "text/plain": [
       "([<matplotlib.axis.XTick at 0x7fbc6758ee90>,\n",
       "  <matplotlib.axis.XTick at 0x7fbc6795a1d0>,\n",
       "  <matplotlib.axis.XTick at 0x7fbc67ef1dd0>],\n",
       " [Text(0, 0, 'TV'), Text(1, 0, 'Radio'), Text(2, 0, 'Social_Media')])"
      ]
     },
     "execution_count": 22,
     "metadata": {},
     "output_type": "execute_result"
    },
    {
     "data": {
      "image/png": "[encoded data removed]",
      "text/plain": [
       "<Figure size 640x480 with 1 Axes>"
      ]
     },
     "metadata": {},
     "output_type": "display_data"
    }
   ],
   "source": [
    "#Plot the correlation between each channel and \"Sales\"\n",
    "x = [i for i, _ in enumerate(type)]\n",
    "y = type.sum()\n",
    "plt.bar(x, y)\n",
    "plt.xticks(x, type)"
   ]
  },
  {
   "attachments": {},
   "cell_type": "markdown",
   "metadata": {},
   "source": [
    "\n",
    "- Plotting a scatter plot of the relationship between the sales and the advertising budget for TV, Radio and Social Media.\n",
    "- The x-axis represents the advertising budget for TV, Radio and Social Media. The y-axis represents the sales. \n",
    "- The scatter plot shows how the sales are related to the advertising budget for each medium."
   ]
  },
  {
   "cell_type": "code",
   "execution_count": 23,
   "metadata": {},
   "outputs": [
    {
     "data": {
      "image/png": "[encoded data removed]",
      "text/plain": [
       "<Figure size 640x480 with 1 Axes>"
      ]
     },
     "metadata": {},
     "output_type": "display_data"
    }
   ],
   "source": [
    "plt.scatter(data[\"Social_Media\"],data[\"Sales\"], label = \"Social_Media\",  color=\"orange\")\n",
    "plt.scatter(data[\"Radio\"],data[\"Sales\"], label = \"Radio\",  color=\"blue\")\n",
    "plt.scatter(data[\"TV\"],data[\"Sales\"], label = \"TV\", color=\"purple\")\n",
    "plt.xlabel(\"TV, Radio, Social_Media\")\n",
    "plt.ylabel(\"Sales\")\n",
    "plt.legend()\n",
    "plt.show()\n"
   ]
  },
  {
   "cell_type": "code",
   "execution_count": 24,
   "metadata": {},
   "outputs": [
    {
     "data": {
      "text/html": [
       "<div>\n",
       "<style scoped>\n",
       "    .dataframe tbody tr th:only-of-type {\n",
       "        vertical-align: middle;\n",
       "    }\n",
       "\n",
       "    .dataframe tbody tr th {\n",
       "        vertical-align: top;\n",
       "    }\n",
       "\n",
       "    .dataframe thead th {\n",
       "        text-align: right;\n",
       "    }\n",
       "</style>\n",
       "<table border=\"1\" class=\"dataframe\">\n",
       "  <thead>\n",
       "    <tr style=\"text-align: right;\">\n",
       "      <th></th>\n",
       "      <th>TV</th>\n",
       "      <th>Radio</th>\n",
       "      <th>Social_Media</th>\n",
       "      <th>Sales</th>\n",
       "      <th>Advertisement</th>\n",
       "    </tr>\n",
       "  </thead>\n",
       "  <tbody>\n",
       "    <tr>\n",
       "      <th>0</th>\n",
       "      <td>16.0</td>\n",
       "      <td>6.566231</td>\n",
       "      <td>2.907983</td>\n",
       "      <td>54.732757</td>\n",
       "      <td>25.474214</td>\n",
       "    </tr>\n",
       "    <tr>\n",
       "      <th>1</th>\n",
       "      <td>13.0</td>\n",
       "      <td>9.237765</td>\n",
       "      <td>2.409567</td>\n",
       "      <td>46.677897</td>\n",
       "      <td>24.647332</td>\n",
       "    </tr>\n",
       "    <tr>\n",
       "      <th>2</th>\n",
       "      <td>41.0</td>\n",
       "      <td>15.886446</td>\n",
       "      <td>2.913410</td>\n",
       "      <td>150.177829</td>\n",
       "      <td>59.799856</td>\n",
       "    </tr>\n",
       "    <tr>\n",
       "      <th>3</th>\n",
       "      <td>83.0</td>\n",
       "      <td>30.020028</td>\n",
       "      <td>6.922304</td>\n",
       "      <td>298.246340</td>\n",
       "      <td>119.942332</td>\n",
       "    </tr>\n",
       "    <tr>\n",
       "      <th>4</th>\n",
       "      <td>15.0</td>\n",
       "      <td>8.437408</td>\n",
       "      <td>1.405998</td>\n",
       "      <td>56.594181</td>\n",
       "      <td>24.843406</td>\n",
       "    </tr>\n",
       "    <tr>\n",
       "      <th>...</th>\n",
       "      <td>...</td>\n",
       "      <td>...</td>\n",
       "      <td>...</td>\n",
       "      <td>...</td>\n",
       "      <td>...</td>\n",
       "    </tr>\n",
       "    <tr>\n",
       "      <th>4567</th>\n",
       "      <td>26.0</td>\n",
       "      <td>4.472360</td>\n",
       "      <td>0.717090</td>\n",
       "      <td>94.685866</td>\n",
       "      <td>31.189450</td>\n",
       "    </tr>\n",
       "    <tr>\n",
       "      <th>4568</th>\n",
       "      <td>71.0</td>\n",
       "      <td>20.610685</td>\n",
       "      <td>6.545573</td>\n",
       "      <td>249.101915</td>\n",
       "      <td>98.156259</td>\n",
       "    </tr>\n",
       "    <tr>\n",
       "      <th>4569</th>\n",
       "      <td>44.0</td>\n",
       "      <td>19.800072</td>\n",
       "      <td>5.096192</td>\n",
       "      <td>163.631457</td>\n",
       "      <td>68.896264</td>\n",
       "    </tr>\n",
       "    <tr>\n",
       "      <th>4570</th>\n",
       "      <td>71.0</td>\n",
       "      <td>17.534640</td>\n",
       "      <td>1.940873</td>\n",
       "      <td>253.610411</td>\n",
       "      <td>90.475514</td>\n",
       "    </tr>\n",
       "    <tr>\n",
       "      <th>4571</th>\n",
       "      <td>42.0</td>\n",
       "      <td>15.966688</td>\n",
       "      <td>5.046548</td>\n",
       "      <td>148.202414</td>\n",
       "      <td>63.013235</td>\n",
       "    </tr>\n",
       "  </tbody>\n",
       "</table>\n",
       "<p>4546 rows × 5 columns</p>\n",
       "</div>"
      ],
      "text/plain": [
       "        TV      Radio  Social_Media       Sales  Advertisement\n",
       "0     16.0   6.566231      2.907983   54.732757      25.474214\n",
       "1     13.0   9.237765      2.409567   46.677897      24.647332\n",
       "2     41.0  15.886446      2.913410  150.177829      59.799856\n",
       "3     83.0  30.020028      6.922304  298.246340     119.942332\n",
       "4     15.0   8.437408      1.405998   56.594181      24.843406\n",
       "...    ...        ...           ...         ...            ...\n",
       "4567  26.0   4.472360      0.717090   94.685866      31.189450\n",
       "4568  71.0  20.610685      6.545573  249.101915      98.156259\n",
       "4569  44.0  19.800072      5.096192  163.631457      68.896264\n",
       "4570  71.0  17.534640      1.940873  253.610411      90.475514\n",
       "4571  42.0  15.966688      5.046548  148.202414      63.013235\n",
       "\n",
       "[4546 rows x 5 columns]"
      ]
     },
     "execution_count": 24,
     "metadata": {},
     "output_type": "execute_result"
    }
   ],
   "source": [
    "data"
   ]
  },
  {
   "cell_type": "code",
   "execution_count": 25,
   "metadata": {},
   "outputs": [
    {
     "data": {
      "text/html": [
       "<div>\n",
       "<style scoped>\n",
       "    .dataframe tbody tr th:only-of-type {\n",
       "        vertical-align: middle;\n",
       "    }\n",
       "\n",
       "    .dataframe tbody tr th {\n",
       "        vertical-align: top;\n",
       "    }\n",
       "\n",
       "    .dataframe thead th {\n",
       "        text-align: right;\n",
       "    }\n",
       "</style>\n",
       "<table border=\"1\" class=\"dataframe\">\n",
       "  <thead>\n",
       "    <tr style=\"text-align: right;\">\n",
       "      <th></th>\n",
       "      <th>TV</th>\n",
       "      <th>Radio</th>\n",
       "      <th>Social_Media</th>\n",
       "      <th>Sales</th>\n",
       "      <th>Advertisement</th>\n",
       "    </tr>\n",
       "  </thead>\n",
       "  <tbody>\n",
       "    <tr>\n",
       "      <th>TV</th>\n",
       "      <td>1.000000</td>\n",
       "      <td>0.869158</td>\n",
       "      <td>0.527687</td>\n",
       "      <td>0.999497</td>\n",
       "      <td>0.987401</td>\n",
       "    </tr>\n",
       "    <tr>\n",
       "      <th>Radio</th>\n",
       "      <td>0.869158</td>\n",
       "      <td>1.000000</td>\n",
       "      <td>0.606338</td>\n",
       "      <td>0.868638</td>\n",
       "      <td>0.932667</td>\n",
       "    </tr>\n",
       "    <tr>\n",
       "      <th>Social_Media</th>\n",
       "      <td>0.527687</td>\n",
       "      <td>0.606338</td>\n",
       "      <td>1.000000</td>\n",
       "      <td>0.527446</td>\n",
       "      <td>0.604712</td>\n",
       "    </tr>\n",
       "    <tr>\n",
       "      <th>Sales</th>\n",
       "      <td>0.999497</td>\n",
       "      <td>0.868638</td>\n",
       "      <td>0.527446</td>\n",
       "      <td>1.000000</td>\n",
       "      <td>0.986884</td>\n",
       "    </tr>\n",
       "    <tr>\n",
       "      <th>Advertisement</th>\n",
       "      <td>0.987401</td>\n",
       "      <td>0.932667</td>\n",
       "      <td>0.604712</td>\n",
       "      <td>0.986884</td>\n",
       "      <td>1.000000</td>\n",
       "    </tr>\n",
       "  </tbody>\n",
       "</table>\n",
       "</div>"
      ],
      "text/plain": [
       "                     TV     Radio  Social_Media     Sales  Advertisement\n",
       "TV             1.000000  0.869158      0.527687  0.999497       0.987401\n",
       "Radio          0.869158  1.000000      0.606338  0.868638       0.932667\n",
       "Social_Media   0.527687  0.606338      1.000000  0.527446       0.604712\n",
       "Sales          0.999497  0.868638      0.527446  1.000000       0.986884\n",
       "Advertisement  0.987401  0.932667      0.604712  0.986884       1.000000"
      ]
     },
     "execution_count": 25,
     "metadata": {},
     "output_type": "execute_result"
    }
   ],
   "source": [
    "#Compute the correlation between input/ output variables\n",
    "data.corr(method ='pearson')"
   ]
  },
  {
   "attachments": {},
   "cell_type": "markdown",
   "metadata": {},
   "source": [
    "\n",
    "- #### TV advertising has the highest correlation with sales. \n",
    "- #### The correlation coefficient between TV and sales is 0.999497, which is very close to 1. \n",
    "- #### This suggests that there is a strong positive relationship between TV advertising and sales. "
   ]
  },
  {
   "attachments": {},
   "cell_type": "markdown",
   "metadata": {},
   "source": [
    "\n",
    "- The plt.hist() function from Matplotlib library is used to compute and create a histogram of x. \n",
    "- The np.log1p() function is used to calculate the natural logarithm of 1+x element-wise for all elements in the array x. \n",
    "- The plt.figure() function is used to create a new figure with the specified size."
   ]
  },
  {
   "cell_type": "code",
   "execution_count": 26,
   "metadata": {},
   "outputs": [
    {
     "data": {
      "image/png": "[encoded data removed]",
      "text/plain": [
       "<Figure size 800x500 with 1 Axes>"
      ]
     },
     "metadata": {},
     "output_type": "display_data"
    }
   ],
   "source": [
    "plt.figure(figsize=(8,5))\n",
    "plt.hist(np.log1p(data.TV), bins=30)\n",
    "plt.title('Distribution of TV', fontsize=16)\n",
    "plt.xlabel('TV')\n",
    "plt.ylabel('Frequency')\n",
    "plt.show()"
   ]
  },
  {
   "attachments": {},
   "cell_type": "markdown",
   "metadata": {},
   "source": [
    "\n",
    "- The code plt.hist(np.log1p(data.Sales), bins=30) is used to plot a histogram of the natural logarithm of the sales data. \n",
    "- The np.log1p() function is used to calculate the natural logarithmic value of x+1 where x belongs to all the input array elements. \n",
    "- This function is used instead of np.log() to avoid log(0) errors. The bins parameter specifies the number of bins in the histogram. \n",
    "- In this case, there are 30 bins. The plt.hist() function is used to plot the histogram. \n",
    "- It takes an array of dataset and array of bin as parameter and creates a histogram of the corresponding data values"
   ]
  },
  {
   "cell_type": "code",
   "execution_count": 27,
   "metadata": {},
   "outputs": [
    {
     "data": {
      "image/png": "[encoded data removed]",
      "text/plain": [
       "<Figure size 800x500 with 1 Axes>"
      ]
     },
     "metadata": {},
     "output_type": "display_data"
    }
   ],
   "source": [
    "plt.figure(figsize=(8,5))\n",
    "plt.hist(np.log1p(data.Sales), bins=30)\n",
    "plt.title('Distribution of Sales', fontsize=16)\n",
    "plt.xlabel('Sales')\n",
    "plt.ylabel('Frequency')\n",
    "plt.show()"
   ]
  },
  {
   "attachments": {},
   "cell_type": "markdown",
   "metadata": {},
   "source": [
    "\n",
    "- Splitting the data into training and testing sets for a machine learning model. \n",
    "- The input data is saved as a 2D array in the variable x, which contains the TV column of the original data. \n",
    "- The output data is saved as a 2D array in the variable y, which contains the Sales column of the original data. \n",
    "- The input and output data are then split into training and testing sets using the train_test_split() function from scikit-learn. \n",
    "- The training set contains 80% of the data, while the testing set contains 20% of the data. \n",
    "- The random state is set to 42 to ensure that the same random split is obtained each time the code is run."
   ]
  },
  {
   "cell_type": "code",
   "execution_count": 28,
   "metadata": {},
   "outputs": [],
   "source": [
    "#Save input as 2d array in variable x\n",
    "x=data[['TV']]\n",
    "#Save output as 2d array in variable y \n",
    "y=data[['Sales']]\n",
    "\n",
    "#Split input and output to training and testing data\n",
    "x_train, x_test, y_train, y_test = train_test_split(x,y,test_size=0.2,random_state=42)"
   ]
  },
  {
   "cell_type": "code",
   "execution_count": 29,
   "metadata": {},
   "outputs": [
    {
     "name": "stdout",
     "output_type": "stream",
     "text": [
      "TV: mean=54.063 stdv=26.102\n",
      "Sales: mean=192.413 stdv=93.010\n"
     ]
    }
   ],
   "source": [
    "# print the mean and standard deviation for input x (TV) and output y (Sales) columns\n",
    "print('TV: mean=%.3f stdv=%.3f' % (np.mean(x), np.std(x)))\n",
    "print('Sales: mean=%.3f stdv=%.3f' % (np.mean(y), np.std(y)))"
   ]
  },
  {
   "cell_type": "code",
   "execution_count": 30,
   "metadata": {},
   "outputs": [
    {
     "name": "stdout",
     "output_type": "stream",
     "text": [
      "coefficients:  [[3.56191195]]\n",
      "Intercept:  [-0.1689657]\n"
     ]
    }
   ],
   "source": [
    "#Create our second linear regression model\n",
    "model_2=linear_model.LinearRegression()#Select linear regression model\n",
    "model_2.fit(x_train,y_train)\n",
    "\n",
    "#The coefficients:\n",
    "print(\"coefficients: \", model_2.coef_)#Slope\n",
    "print(\"Intercept: \", model_2.intercept_)#Intercept"
   ]
  },
  {
   "attachments": {},
   "cell_type": "markdown",
   "metadata": {},
   "source": [
    "\n",
    "- Plotting a scatter plot of the TV column of the data against the Sales column of the data using the scatter() function from matplotlib. \n",
    "- The plot is colored light blue. The code then plots a line on top of the scatter plot using the plot() function from matplotlib. \n",
    "- The line is generated using the coefficients and intercept from a linear regression model (model_2) that has been fit to the training data. \n",
    "- The x-axis of the plot represents the TV column of the data, while the y-axis represents the Sales column of the data. The x-axis is labeled “TV”, while the y-axis is labeled “Sales”."
   ]
  },
  {
   "cell_type": "code",
   "execution_count": 31,
   "metadata": {},
   "outputs": [
    {
     "data": {
      "text/plain": [
       "Text(0, 0.5, 'Sales')"
      ]
     },
     "execution_count": 31,
     "metadata": {},
     "output_type": "execute_result"
    },
    {
     "data": {
      "image/png": "[encoded data removed]",
      "text/plain": [
       "<Figure size 640x480 with 1 Axes>"
      ]
     },
     "metadata": {},
     "output_type": "display_data"
    }
   ],
   "source": [
    "#Plotting the regression line:\n",
    "plt.scatter(data[\"TV\"], data[\"Sales\"], color='lightblue')\n",
    "plt.plot(x_train, model_2.coef_*x_train+model_2.intercept_,'-y')\n",
    "plt.xlabel(\"TV\")\n",
    "plt.ylabel(\"Sales\")"
   ]
  },
  {
   "attachments": {},
   "cell_type": "markdown",
   "metadata": {},
   "source": [
    "\n",
    "-  Using the second model (model_2) to predict the sales for a given value of TV. \n",
    "-  The value of TV is set to 70,000,000 and is reshaped into a 2D array using the reshape() function from numpy. \n",
    "-  The predict() function from scikit-learn is then used to predict the sales for this value of TV. The predicted sales are then divided by 1,000,000 and formatted to six decimal places using the '{:.6f}'.format() function. The estimated sales are then printed to the console.\n",
    "\n",
    "- The second block of code using the second model (model_2) to predict the sales for the testing data (x_test). The predicted sales are saved in the variable y_pred."
   ]
  },
  {
   "cell_type": "code",
   "execution_count": 32,
   "metadata": {},
   "outputs": [
    {
     "name": "stdout",
     "output_type": "stream",
     "text": [
      "Estimated Sales is: 249.333837 million\n"
     ]
    }
   ],
   "source": [
    "#Predicting Sales for myTV using our second model:\n",
    "myTV=np.array(70000000).reshape(1,-1)\n",
    "prediction=model_2.predict(myTV)\n",
    "estimatd_Sales='{:.6f}'.format(prediction.item()/1000000)\n",
    "print(\"Estimated Sales is: {} million\".format(estimatd_Sales))"
   ]
  },
  {
   "cell_type": "code",
   "execution_count": 33,
   "metadata": {},
   "outputs": [],
   "source": [
    "y_pred = model_2.predict(x_test)"
   ]
  },
  {
   "attachments": {},
   "cell_type": "markdown",
   "metadata": {},
   "source": [
    "\n",
    "- Calculating the evaluation metrics for the second model (model_2). \n",
    "- The first metric calculated is the mean absolute error (MAE), which is calculated using the mean_absolute_error() function from scikit-learn. The MAE is then printed to the console. \n",
    "- The second metric calculated is the mean squared error (MSE), which is calculated using the mean_squared_error() function from scikit-learn. The MSE is then printed to the console. \n",
    "- The third metric calculated is the root mean squared error (RMSE), which is calculated using the sqrt() function from numpy and the mean_squared_error() function from scikit-learn. The RMSE is then printed to the console"
   ]
  },
  {
   "cell_type": "code",
   "execution_count": 34,
   "metadata": {},
   "outputs": [
    {
     "name": "stdout",
     "output_type": "stream",
     "text": [
      "The mean absolute error is:  2.3108516081408705\n",
      "The mean squared error is:  8.313211608212859\n",
      "The root mean squared error is:  2.8832640545418067\n"
     ]
    }
   ],
   "source": [
    "# Calculate the evaluation metrics \n",
    "\n",
    "#1- Mean Absolute Error (MAE)\n",
    "print('The mean absolute error is: ',metrics.mean_absolute_error(y_test, y_pred))\n",
    "\n",
    "#2- Mean Squared Error (MSE)\n",
    "print('The mean squared error is: ',metrics.mean_squared_error(y_test, y_pred))\n",
    "\n",
    "#3- Root Mean Squared Error (RMSE)\n",
    "print('The root mean squared error is: ',np.sqrt(metrics.mean_squared_error(y_test, y_pred)))"
   ]
  },
  {
   "attachments": {},
   "cell_type": "markdown",
   "metadata": {},
   "source": [
    "> Second model has lower values for all three evaluation metrics than the first model, which suggests that it is a better fit for the data."
   ]
  }
 ],
 "metadata": {
  "kernelspec": {
   "display_name": "Python 3",
   "language": "python",
   "name": "python3"
  },
  "language_info": {
   "codemirror_mode": {
    "name": "ipython",
    "version": 3
   },
   "file_extension": ".py",
   "mimetype": "text/x-python",
   "name": "python",
   "nbconvert_exporter": "python",
   "pygments_lexer": "ipython3",
   "version": "3.11.2"
  },
  "orig_nbformat": 4
 },
 "nbformat": 4,
 "nbformat_minor": 2
}
